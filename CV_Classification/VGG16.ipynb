{
 "cells": [
  {
   "cell_type": "code",
   "execution_count": null,
   "id": "07b46d0a",
   "metadata": {},
   "outputs": [],
   "source": [
    "# GPU Reset "
   ]
  },
  {
   "cell_type": "code",
   "execution_count": null,
   "id": "415e7836",
   "metadata": {},
   "outputs": [],
   "source": [
    "from numba import cuda \n",
    "device = cuda.get_current_device()\n",
    "device.reset()"
   ]
  },
  {
   "cell_type": "code",
   "execution_count": null,
   "id": "f54df838",
   "metadata": {},
   "outputs": [],
   "source": [
    "import os"
   ]
  },
  {
   "cell_type": "code",
   "execution_count": null,
   "id": "59ca3594",
   "metadata": {},
   "outputs": [],
   "source": [
    "image_file = \"test_image.jpeg\"\n",
    "print(image_file)"
   ]
  },
  {
   "cell_type": "code",
   "execution_count": null,
   "id": "b31bc8c7",
   "metadata": {},
   "outputs": [],
   "source": [
    "# Import tensorflow/keras"
   ]
  },
  {
   "cell_type": "code",
   "execution_count": null,
   "id": "f4dcbd3f",
   "metadata": {},
   "outputs": [],
   "source": [
    "import tensorflow\n",
    "import numpy as np\n",
    "from tensorflow import keras\n",
    "print(tensorflow.__version__)"
   ]
  },
  {
   "cell_type": "code",
   "execution_count": null,
   "id": "274f84d1",
   "metadata": {},
   "outputs": [],
   "source": [
    "# Display available GPUs\n",
    "# Reference : https://stackoverflow.com/questions/38559755/how-to-get-current-available-gpus-in-tensorflow\n",
    "# Reference : https://www.tensorflow.org/api_docs/python/tf/config/list_physical_devices\n",
    "\n",
    "physical_devices = tensorflow.config.list_physical_devices('GPU')\n",
    "for gpu in physical_devices:\n",
    "    print(\"Name:\", gpu.name, \"  Type:\", gpu.device_type)"
   ]
  },
  {
   "cell_type": "code",
   "execution_count": null,
   "id": "182638e5",
   "metadata": {},
   "outputs": [],
   "source": [
    "from tensorflow.python.client import device_lib\n",
    "print(device_lib.list_local_devices())"
   ]
  },
  {
   "cell_type": "code",
   "execution_count": null,
   "id": "b66927e7",
   "metadata": {},
   "outputs": [],
   "source": [
    "# Set Memory Growth\n",
    "# Reference : https://www.tensorflow.org/api_docs/python/tf/config/experimental/set_memory_growth\n",
    "\n",
    "if physical_devices != []:\n",
    "    tensorflow.config.experimental.set_memory_growth(physical_devices[0], True)\n",
    "    physical_devices[0]"
   ]
  },
  {
   "cell_type": "code",
   "execution_count": null,
   "id": "4579ab6f",
   "metadata": {},
   "outputs": [],
   "source": [
    "# Reference : https://www.pyimagesearch.com/2016/08/10/imagenet-classification-with-python-and-keras/"
   ]
  },
  {
   "cell_type": "code",
   "execution_count": null,
   "id": "e4278046",
   "metadata": {},
   "outputs": [],
   "source": [
    "# VGG16 import"
   ]
  },
  {
   "cell_type": "code",
   "execution_count": null,
   "id": "075d0a75",
   "metadata": {},
   "outputs": [],
   "source": [
    "from tensorflow.keras.applications import VGG16"
   ]
  },
  {
   "cell_type": "code",
   "execution_count": null,
   "id": "8c31c13f",
   "metadata": {},
   "outputs": [],
   "source": [
    "#Reference : https://keras.io/api/applications/vgg/#vgg16-function\n",
    "\n",
    "from tensorflow.keras.applications.vgg16 import preprocess_input"
   ]
  },
  {
   "cell_type": "code",
   "execution_count": null,
   "id": "0cc917dc",
   "metadata": {},
   "outputs": [],
   "source": [
    "# Import other image releated functions"
   ]
  },
  {
   "cell_type": "code",
   "execution_count": null,
   "id": "0bca7572",
   "metadata": {},
   "outputs": [],
   "source": [
    "from tensorflow.keras.preprocessing.image import img_to_array\n",
    "from tensorflow.keras.preprocessing.image import load_img\n",
    "\n",
    "from tensorflow.keras.applications.imagenet_utils import decode_predictions"
   ]
  },
  {
   "cell_type": "code",
   "execution_count": null,
   "id": "36cb005b",
   "metadata": {},
   "outputs": [],
   "source": [
    "# Initial Parameters"
   ]
  },
  {
   "cell_type": "code",
   "execution_count": null,
   "id": "c0180bdb",
   "metadata": {},
   "outputs": [],
   "source": [
    "inputShape = (224, 224)\n",
    "preprocess = preprocess_input"
   ]
  },
  {
   "cell_type": "code",
   "execution_count": null,
   "id": "689a9980",
   "metadata": {},
   "outputs": [],
   "source": [
    "# Define model\n",
    "\n",
    "model = VGG16(weights=\"imagenet\")"
   ]
  },
  {
   "cell_type": "code",
   "execution_count": null,
   "id": "91908849",
   "metadata": {},
   "outputs": [],
   "source": [
    "# Load image to classify\n",
    "\n",
    "image = load_img(image_file, target_size=inputShape)\n",
    "image = img_to_array(image)\n",
    "\n",
    "image = np.expand_dims(image, axis=0)\n",
    "\n",
    "image = preprocess(image)"
   ]
  },
  {
   "cell_type": "code",
   "execution_count": null,
   "id": "b51a2e70",
   "metadata": {},
   "outputs": [],
   "source": [
    "# Image classify\n",
    "\n",
    "preds = model.predict(image)\n",
    "P = decode_predictions(preds)"
   ]
  },
  {
   "cell_type": "code",
   "execution_count": null,
   "id": "1378c442",
   "metadata": {},
   "outputs": [],
   "source": [
    "text = str(\"\")\n",
    "for (i, (imagenetID, label, prob)) in enumerate(P[0]):\n",
    "    print(\"{}. {} ({}): {:.2f}%\".format(i + 1, label, imagenetID, prob * 100))\n",
    "    text += ( \"{}. {} ({}): {:.2f}% \".format(i + 1, label, imagenetID, prob * 100) )"
   ]
  },
  {
   "cell_type": "code",
   "execution_count": null,
   "id": "a4a598fd",
   "metadata": {},
   "outputs": [],
   "source": [
    "import cv2"
   ]
  },
  {
   "cell_type": "code",
   "execution_count": null,
   "id": "8a6cbc80",
   "metadata": {},
   "outputs": [],
   "source": [
    "show_image = cv2.imread(image_file)\n",
    "cv2.putText(show_image, text, (10, 30), cv2.FONT_HERSHEY_SIMPLEX, 0.8, (255, 255, 255), 2)\n",
    "cv2.imshow(\"Classification\", show_image)\n",
    "\n",
    "cv2.waitKey(0)"
   ]
  },
  {
   "cell_type": "code",
   "execution_count": null,
   "id": "c43f0049",
   "metadata": {},
   "outputs": [],
   "source": [
    "P[0][0][1]"
   ]
  }
 ],
 "metadata": {
  "kernelspec": {
   "display_name": "Python 3.9 (PyTorch)",
   "language": "python",
   "name": "pyt"
  },
  "language_info": {
   "codemirror_mode": {
    "name": "ipython",
    "version": 3
   },
   "file_extension": ".py",
   "mimetype": "text/x-python",
   "name": "python",
   "nbconvert_exporter": "python",
   "pygments_lexer": "ipython3",
   "version": "3.9.7"
  }
 },
 "nbformat": 4,
 "nbformat_minor": 5
}
