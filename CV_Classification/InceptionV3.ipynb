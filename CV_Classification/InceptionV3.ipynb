{
 "cells": [
  {
   "cell_type": "code",
   "execution_count": null,
   "id": "f0703bf7",
   "metadata": {},
   "outputs": [],
   "source": [
    "# GPU Reset "
   ]
  },
  {
   "cell_type": "code",
   "execution_count": null,
   "id": "09f951c6",
   "metadata": {},
   "outputs": [],
   "source": [
    "from numba import cuda \n",
    "device = cuda.get_current_device()\n",
    "device.reset()"
   ]
  },
  {
   "cell_type": "code",
   "execution_count": null,
   "id": "54ae5371",
   "metadata": {},
   "outputs": [],
   "source": [
    "import os"
   ]
  },
  {
   "cell_type": "code",
   "execution_count": null,
   "id": "3934ee45",
   "metadata": {},
   "outputs": [],
   "source": [
    "image_file = \"test_image.jpeg\"\n",
    "print(image_file)"
   ]
  },
  {
   "cell_type": "code",
   "execution_count": null,
   "id": "b5d66ff6",
   "metadata": {},
   "outputs": [],
   "source": [
    "# Import tensorflow/keras\n",
    "\n",
    "import tensorflow\n",
    "import numpy as np\n",
    "from tensorflow import keras\n",
    "print(tensorflow.__version__)"
   ]
  },
  {
   "cell_type": "code",
   "execution_count": null,
   "id": "855643af",
   "metadata": {},
   "outputs": [],
   "source": [
    "# Display available GPUs\n",
    "# Reference : https://stackoverflow.com/questions/38559755/how-to-get-current-available-gpus-in-tensorflow\n",
    "# Reference : https://www.tensorflow.org/api_docs/python/tf/config/list_physical_devices\n",
    "\n",
    "physical_devices = tensorflow.config.list_physical_devices('GPU')\n",
    "for gpu in physical_devices:\n",
    "    print(\"Name:\", gpu.name, \"  Type:\", gpu.device_type)"
   ]
  },
  {
   "cell_type": "code",
   "execution_count": null,
   "id": "45827657",
   "metadata": {},
   "outputs": [],
   "source": [
    "from tensorflow.python.client import device_lib\n",
    "print(device_lib.list_local_devices())"
   ]
  },
  {
   "cell_type": "code",
   "execution_count": null,
   "id": "ec81904a",
   "metadata": {},
   "outputs": [],
   "source": [
    "# Set Memory Growth\n",
    "# Reference : https://www.tensorflow.org/api_docs/python/tf/config/experimental/set_memory_growth\n",
    "\n",
    "if physical_devices != []:\n",
    "    tensorflow.config.experimental.set_memory_growth(physical_devices[0], True)\n",
    "    physical_devices[0]"
   ]
  },
  {
   "cell_type": "code",
   "execution_count": null,
   "id": "96841d36",
   "metadata": {},
   "outputs": [],
   "source": [
    "# Reference : https://www.pyimagesearch.com/2017/03/20/imagenet-vggnet-resnet-inception-xception-keras/"
   ]
  },
  {
   "cell_type": "code",
   "execution_count": null,
   "id": "9a803283",
   "metadata": {},
   "outputs": [],
   "source": [
    "# InceptionV3 import"
   ]
  },
  {
   "cell_type": "code",
   "execution_count": null,
   "id": "23b69ad9",
   "metadata": {},
   "outputs": [],
   "source": [
    "from tensorflow.keras.applications import Inception"
   ]
  },
  {
   "cell_type": "code",
   "execution_count": null,
   "id": "d3166da4",
   "metadata": {},
   "outputs": [],
   "source": [
    "# Import preprocessing for InceptionV3"
   ]
  },
  {
   "cell_type": "code",
   "execution_count": null,
   "id": "89bf0b9e",
   "metadata": {},
   "outputs": [],
   "source": [
    "#Reference : https://keras.io/api/applications/inceptionv3/\n",
    "\n",
    "from tensorflow.keras.applications.inception_v3 import preprocess_input"
   ]
  },
  {
   "cell_type": "code",
   "execution_count": null,
   "id": "4b517304",
   "metadata": {},
   "outputs": [],
   "source": [
    "# Import other image releated functions"
   ]
  },
  {
   "cell_type": "code",
   "execution_count": null,
   "id": "c9571fa7",
   "metadata": {},
   "outputs": [],
   "source": [
    "from tensorflow.keras.preprocessing.image import img_to_array\n",
    "from tensorflow.keras.preprocessing.image import load_img\n",
    "\n",
    "from tensorflow.keras.applications.imagenet_utils import decode_predictions"
   ]
  },
  {
   "cell_type": "code",
   "execution_count": null,
   "id": "7c86f807",
   "metadata": {},
   "outputs": [],
   "source": [
    "# Initial Parameters"
   ]
  },
  {
   "cell_type": "code",
   "execution_count": null,
   "id": "9c2c5f35",
   "metadata": {},
   "outputs": [],
   "source": [
    "inputShape = (299, 299)\n",
    "preprocess = preprocess_input"
   ]
  },
  {
   "cell_type": "code",
   "execution_count": null,
   "id": "5b04b935",
   "metadata": {},
   "outputs": [],
   "source": [
    "# Define model\n",
    "\n",
    "model = InceptionV3(weights=\"imagenet\")"
   ]
  },
  {
   "cell_type": "code",
   "execution_count": null,
   "id": "f4801fb0",
   "metadata": {},
   "outputs": [],
   "source": [
    "image = load_img(image_file, target_size=inputShape)\n",
    "image = img_to_array(image)\n",
    "\n",
    "image = np.expand_dims(image, axis=0)\n",
    "\n",
    "image = preprocess(image)"
   ]
  },
  {
   "cell_type": "code",
   "execution_count": null,
   "id": "f9b4737a",
   "metadata": {},
   "outputs": [],
   "source": [
    "# Image classify\n",
    "\n",
    "preds = model.predict(image)\n",
    "P = decode_predictions(preds)"
   ]
  },
  {
   "cell_type": "code",
   "execution_count": null,
   "id": "6277f5cb",
   "metadata": {},
   "outputs": [],
   "source": [
    "text = str(\"\")\n",
    "for (i, (imagenetID, label, prob)) in enumerate(P[0]):\n",
    "    print(\"{}. {} ({}): {:.2f}%\".format(i + 1, label, imagenetID, prob * 100))\n",
    "    text += ( \"{}. {} ({}): {:.2f}% \".format(i + 1, label, imagenetID, prob * 100) )"
   ]
  },
  {
   "cell_type": "code",
   "execution_count": null,
   "id": "3c5f9c86",
   "metadata": {},
   "outputs": [],
   "source": [
    "import cv2"
   ]
  },
  {
   "cell_type": "code",
   "execution_count": null,
   "id": "d3b21682",
   "metadata": {},
   "outputs": [],
   "source": [
    "show_image = cv2.imread(image_file)\n",
    "cv2.putText(show_image, text, (10, 30), cv2.FONT_HERSHEY_SIMPLEX, 0.8, (255, 255, 255), 2)\n",
    "cv2.imshow(\"Classification\", show_image)\n",
    "\n",
    "cv2.waitKey(0)"
   ]
  },
  {
   "cell_type": "code",
   "execution_count": null,
   "id": "3fba0e01",
   "metadata": {},
   "outputs": [],
   "source": [
    "P[0][0][1]"
   ]
  }
 ],
 "metadata": {
  "kernelspec": {
   "display_name": "Python 3.9 (PyTorch)",
   "language": "python",
   "name": "pyt"
  },
  "language_info": {
   "codemirror_mode": {
    "name": "ipython",
    "version": 3
   },
   "file_extension": ".py",
   "mimetype": "text/x-python",
   "name": "python",
   "nbconvert_exporter": "python",
   "pygments_lexer": "ipython3",
   "version": "3.9.7"
  }
 },
 "nbformat": 4,
 "nbformat_minor": 5
}
