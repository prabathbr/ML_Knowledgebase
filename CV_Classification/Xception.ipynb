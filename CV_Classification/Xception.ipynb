{
 "cells": [
  {
   "cell_type": "code",
   "execution_count": null,
   "id": "355c46c0",
   "metadata": {},
   "outputs": [],
   "source": [
    "# GPU Reset "
   ]
  },
  {
   "cell_type": "code",
   "execution_count": null,
   "id": "7e37022d",
   "metadata": {},
   "outputs": [],
   "source": [
    "from numba import cuda \n",
    "device = cuda.get_current_device()\n",
    "device.reset()"
   ]
  },
  {
   "cell_type": "code",
   "execution_count": null,
   "id": "355d4e01",
   "metadata": {},
   "outputs": [],
   "source": [
    "import os"
   ]
  },
  {
   "cell_type": "code",
   "execution_count": null,
   "id": "d14c9725",
   "metadata": {},
   "outputs": [],
   "source": [
    "image_file = \"test_image.jpeg\"\n",
    "print(image_file)"
   ]
  },
  {
   "cell_type": "code",
   "execution_count": null,
   "id": "658e1740",
   "metadata": {},
   "outputs": [],
   "source": [
    "# Import tensorflow/keras"
   ]
  },
  {
   "cell_type": "code",
   "execution_count": null,
   "id": "8849c4cd",
   "metadata": {},
   "outputs": [],
   "source": [
    "import tensorflow\n",
    "from tensorflow import keras\n",
    "print(tensorflow.__version__)"
   ]
  },
  {
   "cell_type": "code",
   "execution_count": null,
   "id": "a3c58515",
   "metadata": {},
   "outputs": [],
   "source": [
    "# Display available GPUs\n",
    "# Reference : https://stackoverflow.com/questions/38559755/how-to-get-current-available-gpus-in-tensorflow\n",
    "# Reference : https://www.tensorflow.org/api_docs/python/tf/config/list_physical_devices\n",
    "\n",
    "physical_devices = tensorflow.config.list_physical_devices('GPU')\n",
    "for gpu in physical_devices:\n",
    "    print(\"Name:\", gpu.name, \"  Type:\", gpu.device_type)"
   ]
  },
  {
   "cell_type": "code",
   "execution_count": null,
   "id": "09796cdf",
   "metadata": {},
   "outputs": [],
   "source": [
    "from tensorflow.python.client import device_lib\n",
    "print(device_lib.list_local_devices())"
   ]
  },
  {
   "cell_type": "code",
   "execution_count": null,
   "id": "5a3fb908",
   "metadata": {},
   "outputs": [],
   "source": [
    "# Set Memory Growth\n",
    "# Reference : https://www.tensorflow.org/api_docs/python/tf/config/experimental/set_memory_growth\n",
    "\n",
    "if physical_devices != []:\n",
    "    tensorflow.config.experimental.set_memory_growth(physical_devices[0], True)\n",
    "    physical_devices[0]"
   ]
  },
  {
   "cell_type": "code",
   "execution_count": null,
   "id": "67495a8c",
   "metadata": {},
   "outputs": [],
   "source": [
    "# Reference : https://www.pyimagesearch.com/2017/03/20/imagenet-vggnet-resnet-inception-xception-keras/"
   ]
  },
  {
   "cell_type": "code",
   "execution_count": null,
   "id": "9e0fd20f",
   "metadata": {},
   "outputs": [],
   "source": [
    "# Xception import"
   ]
  },
  {
   "cell_type": "code",
   "execution_count": null,
   "id": "00e3106f",
   "metadata": {},
   "outputs": [],
   "source": [
    "from tensorflow.keras.applications import Xception"
   ]
  },
  {
   "cell_type": "code",
   "execution_count": null,
   "id": "ffa1e478",
   "metadata": {},
   "outputs": [],
   "source": [
    "# Import preprocessing for Xception"
   ]
  },
  {
   "cell_type": "code",
   "execution_count": null,
   "id": "8c7aad88",
   "metadata": {},
   "outputs": [],
   "source": [
    "#from tensorflow.keras.applications.inception_v3 import preprocess_input\n",
    "\n",
    "#Reference : https://keras.io/api/applications/xception/\n",
    "\n",
    "from tensorflow.keras.applications.xception import preprocess_input"
   ]
  },
  {
   "cell_type": "code",
   "execution_count": null,
   "id": "7c71fea0",
   "metadata": {},
   "outputs": [],
   "source": [
    "# Import other image releated functions"
   ]
  },
  {
   "cell_type": "code",
   "execution_count": null,
   "id": "5c33709b",
   "metadata": {},
   "outputs": [],
   "source": [
    "from tensorflow.keras.preprocessing.image import img_to_array\n",
    "from tensorflow.keras.preprocessing.image import load_img\n",
    "\n",
    "from tensorflow.keras.applications.imagenet_utils import decode_predictions"
   ]
  },
  {
   "cell_type": "code",
   "execution_count": null,
   "id": "8225827b",
   "metadata": {},
   "outputs": [],
   "source": [
    "# Initial Parameters"
   ]
  },
  {
   "cell_type": "code",
   "execution_count": null,
   "id": "f0c2abae",
   "metadata": {},
   "outputs": [],
   "source": [
    "inputShape = (299, 299)\n",
    "preprocess = preprocess_input"
   ]
  },
  {
   "cell_type": "code",
   "execution_count": null,
   "id": "b5a9a292",
   "metadata": {},
   "outputs": [],
   "source": [
    "# Define model\n",
    "\n",
    "#Network = MODELS[args[\"Xception]]\n",
    "model = Xception(weights=\"imagenet\")"
   ]
  },
  {
   "cell_type": "code",
   "execution_count": null,
   "id": "2d62b28f",
   "metadata": {},
   "outputs": [],
   "source": [
    "# Load image to classify"
   ]
  },
  {
   "cell_type": "code",
   "execution_count": null,
   "id": "d55efe9a",
   "metadata": {},
   "outputs": [],
   "source": [
    "image = load_img(image_file, target_size=inputShape)\n",
    "image = img_to_array(image)\n",
    "\n",
    "image = np.expand_dims(image, axis=0)\n",
    "\n",
    "image = preprocess(image)"
   ]
  },
  {
   "cell_type": "code",
   "execution_count": null,
   "id": "4bb871e3",
   "metadata": {},
   "outputs": [],
   "source": [
    "# Image classify\n",
    "\n",
    "preds = model.predict(image)\n",
    "P = decode_predictions(preds)"
   ]
  },
  {
   "cell_type": "code",
   "execution_count": null,
   "id": "0d854605",
   "metadata": {},
   "outputs": [],
   "source": [
    "text = str(\"\")\n",
    "for (i, (imagenetID, label, prob)) in enumerate(P[0]):\n",
    "    print(\"{}. {} ({}): {:.2f}%\".format(i + 1, label, imagenetID, prob * 100))\n",
    "    text += ( \"{}. {} ({}): {:.2f}% \".format(i + 1, label, imagenetID, prob * 100) )"
   ]
  },
  {
   "cell_type": "code",
   "execution_count": null,
   "id": "8d1b3fa7",
   "metadata": {},
   "outputs": [],
   "source": [
    "import cv2"
   ]
  },
  {
   "cell_type": "code",
   "execution_count": null,
   "id": "2012c59e",
   "metadata": {},
   "outputs": [],
   "source": [
    "show_image = cv2.imread(image_file)\n",
    "cv2.putText(show_image, text, (10, 30), cv2.FONT_HERSHEY_SIMPLEX, 0.8, (255, 255, 255), 2)\n",
    "cv2.imshow(\"Classification\", show_image)\n",
    "\n",
    "cv2.waitKey(0)"
   ]
  },
  {
   "cell_type": "code",
   "execution_count": null,
   "id": "10a1201e",
   "metadata": {},
   "outputs": [],
   "source": [
    "P[0][0][1]"
   ]
  }
 ],
 "metadata": {
  "kernelspec": {
   "display_name": "Python 3.9 (PyTorch)",
   "language": "python",
   "name": "pyt"
  },
  "language_info": {
   "codemirror_mode": {
    "name": "ipython",
    "version": 3
   },
   "file_extension": ".py",
   "mimetype": "text/x-python",
   "name": "python",
   "nbconvert_exporter": "python",
   "pygments_lexer": "ipython3",
   "version": "3.9.7"
  }
 },
 "nbformat": 4,
 "nbformat_minor": 5
}
