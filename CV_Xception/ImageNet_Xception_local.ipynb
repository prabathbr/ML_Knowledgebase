{
 "cells": [
  {
   "cell_type": "code",
   "execution_count": 1,
   "metadata": {
    "id": "wrjIefChZLsv"
   },
   "outputs": [],
   "source": [
    "# GPU Reset "
   ]
  },
  {
   "cell_type": "code",
   "execution_count": 2,
   "metadata": {
    "id": "qhazbxpJZLs7"
   },
   "outputs": [],
   "source": [
    "from numba import cuda \n",
    "device = cuda.get_current_device()\n",
    "device.reset()"
   ]
  },
  {
   "cell_type": "code",
   "execution_count": 3,
   "metadata": {
    "colab": {
     "base_uri": "https://localhost:8080/",
     "height": 264
    },
    "executionInfo": {
     "elapsed": 18047,
     "status": "error",
     "timestamp": 1610923576563,
     "user": {
      "displayName": "Prabath Hetti Mudiyanselage",
      "photoUrl": "",
      "userId": "08605282177904379825"
     },
     "user_tz": -660
    },
    "id": "t2Oa9EhOhly3",
    "outputId": "e3f92715-4801-4de7-d870-a1b6a1e0ae9b"
   },
   "outputs": [],
   "source": [
    "# from google.colab import drive\n",
    "\n",
    "# drive.mount('/content/drive')\n"
   ]
  },
  {
   "cell_type": "code",
   "execution_count": 4,
   "metadata": {
    "colab": {
     "base_uri": "https://localhost:8080/"
    },
    "executionInfo": {
     "elapsed": 843,
     "status": "ok",
     "timestamp": 1610923610056,
     "user": {
      "displayName": "Prabath Hetti Mudiyanselage",
      "photoUrl": "",
      "userId": "08605282177904379825"
     },
     "user_tz": -660
    },
    "id": "EMnj726Vh4eJ",
    "outputId": "a7160285-e1b7-45ca-c148-b9f4ad340e67"
   },
   "outputs": [],
   "source": [
    "# import os\n",
    "# os.chdir('drive/MyDrive/Colab Notebooks/TF/')\n",
    "\n",
    "# print(os.getcwd())"
   ]
  },
  {
   "cell_type": "code",
   "execution_count": 5,
   "metadata": {
    "id": "bqeCfoLUZLs9"
   },
   "outputs": [],
   "source": [
    "# Import tensorflow/keras"
   ]
  },
  {
   "cell_type": "code",
   "execution_count": 6,
   "metadata": {},
   "outputs": [],
   "source": [
    "# Test image file\n",
    "\n",
    "image_file = \"dog.jpg\""
   ]
  },
  {
   "cell_type": "code",
   "execution_count": 7,
   "metadata": {
    "id": "nEzySLP5ZLs-"
   },
   "outputs": [],
   "source": [
    "import tensorflow"
   ]
  },
  {
   "cell_type": "code",
   "execution_count": 8,
   "metadata": {
    "executionInfo": {
     "elapsed": 674,
     "status": "ok",
     "timestamp": 1610922910656,
     "user": {
      "displayName": "Prabath Hetti Mudiyanselage",
      "photoUrl": "",
      "userId": "08605282177904379825"
     },
     "user_tz": -660
    },
    "id": "CarualOqfM3J"
   },
   "outputs": [],
   "source": [
    "import numpy as np"
   ]
  },
  {
   "cell_type": "code",
   "execution_count": 9,
   "metadata": {
    "id": "rCFofyCJZLtA"
   },
   "outputs": [],
   "source": [
    "from tensorflow import keras"
   ]
  },
  {
   "cell_type": "code",
   "execution_count": 10,
   "metadata": {
    "colab": {
     "base_uri": "https://localhost:8080/"
    },
    "executionInfo": {
     "elapsed": 3699,
     "status": "ok",
     "timestamp": 1610921486566,
     "user": {
      "displayName": "Prabath Hetti Mudiyanselage",
      "photoUrl": "",
      "userId": "08605282177904379825"
     },
     "user_tz": -660
    },
    "id": "ecUpDww7ZLtB",
    "outputId": "0a180dbd-a824-4fcc-f3ce-8e32668f54c4"
   },
   "outputs": [
    {
     "name": "stdout",
     "output_type": "stream",
     "text": [
      "2.3.0\n"
     ]
    }
   ],
   "source": [
    "print(tensorflow.__version__)"
   ]
  },
  {
   "cell_type": "code",
   "execution_count": 11,
   "metadata": {
    "colab": {
     "base_uri": "https://localhost:8080/"
    },
    "executionInfo": {
     "elapsed": 4056,
     "status": "ok",
     "timestamp": 1610921486930,
     "user": {
      "displayName": "Prabath Hetti Mudiyanselage",
      "photoUrl": "",
      "userId": "08605282177904379825"
     },
     "user_tz": -660
    },
    "id": "Ev3aFQGkZLtF",
    "outputId": "e3ef30f8-554b-4387-b88b-803af3eb76b4"
   },
   "outputs": [
    {
     "name": "stdout",
     "output_type": "stream",
     "text": [
      "Name: /physical_device:GPU:0   Type: GPU\n"
     ]
    }
   ],
   "source": [
    "# Display available GPUs\n",
    "# Reference : https://stackoverflow.com/questions/38559755/how-to-get-current-available-gpus-in-tensorflow\n",
    "# Reference : https://www.tensorflow.org/api_docs/python/tf/config/list_physical_devices\n",
    "\n",
    "physical_devices = tensorflow.config.list_physical_devices('GPU')\n",
    "for gpu in physical_devices:\n",
    "    print(\"Name:\", gpu.name, \"  Type:\", gpu.device_type)"
   ]
  },
  {
   "cell_type": "code",
   "execution_count": 12,
   "metadata": {
    "colab": {
     "base_uri": "https://localhost:8080/"
    },
    "executionInfo": {
     "elapsed": 8183,
     "status": "ok",
     "timestamp": 1610921491065,
     "user": {
      "displayName": "Prabath Hetti Mudiyanselage",
      "photoUrl": "",
      "userId": "08605282177904379825"
     },
     "user_tz": -660
    },
    "id": "1KyHrDjvZLtG",
    "outputId": "abad9b19-cbd6-4325-9588-26e13f181a68"
   },
   "outputs": [
    {
     "name": "stdout",
     "output_type": "stream",
     "text": [
      "[name: \"/device:CPU:0\"\n",
      "device_type: \"CPU\"\n",
      "memory_limit: 268435456\n",
      "locality {\n",
      "}\n",
      "incarnation: 10062309332707883608\n",
      ", name: \"/device:XLA_CPU:0\"\n",
      "device_type: \"XLA_CPU\"\n",
      "memory_limit: 17179869184\n",
      "locality {\n",
      "}\n",
      "incarnation: 17056715459461665908\n",
      "physical_device_desc: \"device: XLA_CPU device\"\n",
      ", name: \"/device:GPU:0\"\n",
      "device_type: \"GPU\"\n",
      "memory_limit: 2196032718\n",
      "locality {\n",
      "  bus_id: 1\n",
      "  links {\n",
      "  }\n",
      "}\n",
      "incarnation: 530765765295301718\n",
      "physical_device_desc: \"device: 0, name: GeForce GTX 1060 3GB, pci bus id: 0000:01:00.0, compute capability: 6.1\"\n",
      ", name: \"/device:XLA_GPU:0\"\n",
      "device_type: \"XLA_GPU\"\n",
      "memory_limit: 17179869184\n",
      "locality {\n",
      "}\n",
      "incarnation: 15708231233445037963\n",
      "physical_device_desc: \"device: XLA_GPU device\"\n",
      "]\n"
     ]
    }
   ],
   "source": [
    "from tensorflow.python.client import device_lib\n",
    "print(device_lib.list_local_devices())"
   ]
  },
  {
   "cell_type": "code",
   "execution_count": 13,
   "metadata": {
    "id": "h_jaAW76ZLtH"
   },
   "outputs": [],
   "source": [
    "# Set Memory Growth\n",
    "# Reference : https://www.tensorflow.org/api_docs/python/tf/config/experimental/set_memory_growth\n",
    "\n",
    "if physical_devices != []:\n",
    "    tensorflow.config.experimental.set_memory_growth(physical_devices[0], True)\n",
    "    physical_devices[0]"
   ]
  },
  {
   "cell_type": "code",
   "execution_count": 14,
   "metadata": {
    "id": "jv2Lye7zZLtJ"
   },
   "outputs": [],
   "source": [
    "# Reference : https://www.pyimagesearch.com/2017/03/20/imagenet-vggnet-resnet-inception-xception-keras/"
   ]
  },
  {
   "cell_type": "code",
   "execution_count": 15,
   "metadata": {
    "id": "axhWCaHTZpOo"
   },
   "outputs": [],
   "source": [
    "# Xception import"
   ]
  },
  {
   "cell_type": "code",
   "execution_count": 16,
   "metadata": {
    "id": "tzcGu2ZCZLtJ"
   },
   "outputs": [],
   "source": [
    "from tensorflow.keras.applications import Xception"
   ]
  },
  {
   "cell_type": "code",
   "execution_count": 17,
   "metadata": {
    "id": "tKcbzXKUaUOn"
   },
   "outputs": [],
   "source": [
    "# Import preprocessing for Xception"
   ]
  },
  {
   "cell_type": "code",
   "execution_count": 18,
   "metadata": {
    "id": "WLYa1C-VaUkm"
   },
   "outputs": [],
   "source": [
    "#from tensorflow.keras.applications.inception_v3 import preprocess_input\n",
    "\n",
    "#Reference : https://keras.io/api/applications/xception/\n",
    "\n",
    "from tensorflow.keras.applications.xception import preprocess_input"
   ]
  },
  {
   "cell_type": "code",
   "execution_count": 19,
   "metadata": {
    "id": "xz1obqG3ZLtL"
   },
   "outputs": [],
   "source": [
    "# Import other image releated functions"
   ]
  },
  {
   "cell_type": "code",
   "execution_count": 20,
   "metadata": {
    "executionInfo": {
     "elapsed": 1075,
     "status": "ok",
     "timestamp": 1610923864438,
     "user": {
      "displayName": "Prabath Hetti Mudiyanselage",
      "photoUrl": "",
      "userId": "08605282177904379825"
     },
     "user_tz": -660
    },
    "id": "C270Bx7UZLtM"
   },
   "outputs": [],
   "source": [
    "from tensorflow.keras.preprocessing.image import img_to_array\n",
    "from tensorflow.keras.preprocessing.image import load_img\n",
    "\n",
    "from tensorflow.keras.applications.imagenet_utils import decode_predictions\n",
    "\n",
    "# import urllib\n",
    "# import cv2"
   ]
  },
  {
   "cell_type": "code",
   "execution_count": 21,
   "metadata": {
    "id": "NLF8NGs0ZLtM"
   },
   "outputs": [],
   "source": [
    "# Initial Parameters"
   ]
  },
  {
   "cell_type": "code",
   "execution_count": 22,
   "metadata": {
    "id": "moGn97rfZLtM"
   },
   "outputs": [],
   "source": [
    "inputShape = (299, 299)\n",
    "preprocess = preprocess_input"
   ]
  },
  {
   "cell_type": "code",
   "execution_count": 23,
   "metadata": {
    "colab": {
     "base_uri": "https://localhost:8080/"
    },
    "executionInfo": {
     "elapsed": 2321,
     "status": "ok",
     "timestamp": 1610921865437,
     "user": {
      "displayName": "Prabath Hetti Mudiyanselage",
      "photoUrl": "",
      "userId": "08605282177904379825"
     },
     "user_tz": -660
    },
    "id": "p8IoltlkazIe",
    "outputId": "01e86f91-7d8d-42d5-d998-f025fcf50595"
   },
   "outputs": [],
   "source": [
    "# Define model\n",
    "\n",
    "#Network = MODELS[args[\"Xception]]\n",
    "model = Xception(weights=\"imagenet\")"
   ]
  },
  {
   "cell_type": "code",
   "execution_count": 24,
   "metadata": {
    "executionInfo": {
     "elapsed": 1058,
     "status": "ok",
     "timestamp": 1610924351830,
     "user": {
      "displayName": "Prabath Hetti Mudiyanselage",
      "photoUrl": "",
      "userId": "08605282177904379825"
     },
     "user_tz": -660
    },
    "id": "rAE2ilDRbOdw"
   },
   "outputs": [],
   "source": [
    "# Load image to classify\n",
    "\n",
    "#image_url = \"https://upload.wikimedia.org/wikipedia/commons/thumb/4/49/2013-2016_Toyota_Corolla_%28ZRE172R%29_SX_sedan_%282018-09-17%29_01.jpg/1920px-2013-2016_Toyota_Corolla_%28ZRE172R%29_SX_sedan_%282018-09-17%29_01.jpg\"\n",
    "#test_image = Image.open(BytesIO(image_url))\n",
    "\n",
    "# test_image = urllib.urlopen(image_url)\n",
    "# test_image2 = np.asarray(bytearray(test_image.read()), dtype=\"uint8\")\n",
    "# test_image2 = cv2.imdecode(test_image, cv2.IMREAD_COLOR)\n",
    "\n",
    "image = load_img(image_file, target_size=inputShape)\n",
    "image = img_to_array(image)\n",
    "\n",
    "image = np.expand_dims(image, axis=0)\n",
    "\n",
    "image = preprocess(image)"
   ]
  },
  {
   "cell_type": "code",
   "execution_count": 25,
   "metadata": {
    "executionInfo": {
     "elapsed": 623,
     "status": "ok",
     "timestamp": 1610924351832,
     "user": {
      "displayName": "Prabath Hetti Mudiyanselage",
      "photoUrl": "",
      "userId": "08605282177904379825"
     },
     "user_tz": -660
    },
    "id": "VYvC_GH_dfIv",
    "scrolled": true
   },
   "outputs": [],
   "source": [
    "# Image classify\n",
    "\n",
    "preds = model.predict(image)\n",
    "P = decode_predictions(preds)"
   ]
  },
  {
   "cell_type": "code",
   "execution_count": 26,
   "metadata": {
    "colab": {
     "base_uri": "https://localhost:8080/"
    },
    "executionInfo": {
     "elapsed": 1122,
     "status": "ok",
     "timestamp": 1610924352587,
     "user": {
      "displayName": "Prabath Hetti Mudiyanselage",
      "photoUrl": "",
      "userId": "08605282177904379825"
     },
     "user_tz": -660
    },
    "id": "a3SAPLSjjdik",
    "outputId": "b201c963-beb0-4035-ca64-3b7a8d580425"
   },
   "outputs": [
    {
     "name": "stdout",
     "output_type": "stream",
     "text": [
      "1. dingo (n02115641): 12.69%\n",
      "2. Ibizan_hound (n02091244): 9.57%\n",
      "3. Norwich_terrier (n02094258): 6.90%\n",
      "4. kelpie (n02105412): 3.75%\n",
      "5. Pembroke (n02113023): 2.69%\n"
     ]
    }
   ],
   "source": [
    "text = str(\"\")\n",
    "for (i, (imagenetID, label, prob)) in enumerate(P[0]):\n",
    "    print(\"{}. {} ({}): {:.2f}%\".format(i + 1, label, imagenetID, prob * 100))\n",
    "    text += ( \"{}. {} ({}): {:.2f}% \".format(i + 1, label, imagenetID, prob * 100) )"
   ]
  },
  {
   "cell_type": "code",
   "execution_count": 27,
   "metadata": {
    "executionInfo": {
     "elapsed": 942,
     "status": "ok",
     "timestamp": 1610924352589,
     "user": {
      "displayName": "Prabath Hetti Mudiyanselage",
      "photoUrl": "",
      "userId": "08605282177904379825"
     },
     "user_tz": -660
    },
    "id": "cstuWouRbye1"
   },
   "outputs": [],
   "source": [
    "# GPU reset\n",
    "\n",
    "# from numba import cuda \n",
    "# device = cuda.get_current_device()\n",
    "# device.reset()"
   ]
  },
  {
   "cell_type": "code",
   "execution_count": 28,
   "metadata": {
    "colab": {
     "base_uri": "https://localhost:8080/",
     "height": 36
    },
    "executionInfo": {
     "elapsed": 949,
     "status": "ok",
     "timestamp": 1610924352969,
     "user": {
      "displayName": "Prabath Hetti Mudiyanselage",
      "photoUrl": "",
      "userId": "08605282177904379825"
     },
     "user_tz": -660
    },
    "id": "_UUh6Q1ei5ly",
    "outputId": "8e30d8bf-2cc5-485d-bd0f-070ac8efb3e0"
   },
   "outputs": [],
   "source": [
    "import cv2"
   ]
  },
  {
   "cell_type": "code",
   "execution_count": 29,
   "metadata": {
    "colab": {
     "base_uri": "https://localhost:8080/",
     "height": 36
    },
    "executionInfo": {
     "elapsed": 1162,
     "status": "ok",
     "timestamp": 1610924353427,
     "user": {
      "displayName": "Prabath Hetti Mudiyanselage",
      "photoUrl": "",
      "userId": "08605282177904379825"
     },
     "user_tz": -660
    },
    "id": "xFe388FAjB5j",
    "outputId": "9f3b245d-dead-464a-acd0-0bb26500b43d"
   },
   "outputs": [
    {
     "data": {
      "text/plain": [
       "13"
      ]
     },
     "execution_count": 29,
     "metadata": {},
     "output_type": "execute_result"
    }
   ],
   "source": [
    "show_image = cv2.imread(image_file)\n",
    "cv2.putText(show_image, text, (10, 30), cv2.FONT_HERSHEY_SIMPLEX, 0.8, (255, 255, 255), 2)\n",
    "cv2.imshow(\"Classification\", show_image)\n",
    "\n",
    "cv2.waitKey(0)"
   ]
  },
  {
   "cell_type": "code",
   "execution_count": 30,
   "metadata": {
    "colab": {
     "base_uri": "https://localhost:8080/"
    },
    "executionInfo": {
     "elapsed": 785,
     "status": "ok",
     "timestamp": 1610924353429,
     "user": {
      "displayName": "Prabath Hetti Mudiyanselage",
      "photoUrl": "",
      "userId": "08605282177904379825"
     },
     "user_tz": -660
    },
    "id": "fcqFUId3jCvB",
    "outputId": "258463db-93bf-45e9-fa63-ccf9c1b96b28"
   },
   "outputs": [
    {
     "data": {
      "text/plain": [
       "'dingo'"
      ]
     },
     "execution_count": 30,
     "metadata": {},
     "output_type": "execute_result"
    }
   ],
   "source": [
    "P[0][0][1]"
   ]
  },
  {
   "cell_type": "code",
   "execution_count": null,
   "metadata": {
    "id": "7iCJWKBmjD7B"
   },
   "outputs": [],
   "source": []
  }
 ],
 "metadata": {
  "accelerator": "GPU",
  "colab": {
   "collapsed_sections": [],
   "name": "ImageNet_Xception.ipynb",
   "provenance": []
  },
  "kernelspec": {
   "display_name": "gpu",
   "language": "python",
   "name": "gpu"
  },
  "language_info": {
   "codemirror_mode": {
    "name": "ipython",
    "version": 3
   },
   "file_extension": ".py",
   "mimetype": "text/x-python",
   "name": "python",
   "nbconvert_exporter": "python",
   "pygments_lexer": "ipython3",
   "version": "3.7.7"
  }
 },
 "nbformat": 4,
 "nbformat_minor": 1
}
